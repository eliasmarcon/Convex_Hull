{
 "cells": [
  {
   "cell_type": "code",
   "execution_count": 1,
   "metadata": {},
   "outputs": [],
   "source": [
    "import math\n",
    "import matplotlib.pyplot as plt\n",
    "import time\n",
    "from IPython.display import display, clear_output"
   ]
  },
  {
   "cell_type": "code",
   "execution_count": 2,
   "metadata": {},
   "outputs": [],
   "source": [
    "def find_distance(p1, p2, p3):\n",
    "\n",
    "    # using the formula ax + by + c = 0\n",
    "    a = p1[1] - p2[1]\n",
    "    b = p2[0] - p1[0]\n",
    "    c = p1[0] * p2[1] - p2[0] * p1[1]\n",
    "\n",
    "    # use dot product to find the distance between a line and a point\n",
    "    return abs( a * p3[0] + b * p3[1] + c) / math.sqrt(a * a + b * b)"
   ]
  },
  {
   "cell_type": "code",
   "execution_count": 3,
   "metadata": {},
   "outputs": [],
   "source": [
    "def create_segment(p1, p2, v):\n",
    "\n",
    "    above = []\n",
    "    below = []\n",
    "\n",
    "    if p2[0] - p1[0] == 0:\n",
    "        return above, below\n",
    "    \n",
    "    #calculate m and o from y = mx + o\n",
    "    m = (p2[1] - p1[1]) / (p2[0] - p1[0])\n",
    "    c = -m * p1[0] + p1[1]\n",
    "\n",
    "    #loop through each coordinate and place it into the correct list\n",
    "    for coordinate in v:\n",
    "\n",
    "        #y > mx + o means it is above the line\n",
    "        if coordinate[1] > m * (coordinate[0]) + c:\n",
    "            above.append(coordinate)\n",
    "        #y < mx + o means it is below the line\n",
    "        elif coordinate[1] < m * (coordinate[0]) + c:\n",
    "            below.append(coordinate)\n",
    "\n",
    "\n",
    "    return above, below\n"
   ]
  },
  {
   "cell_type": "code",
   "execution_count": 4,
   "metadata": {},
   "outputs": [],
   "source": [
    "def quickhull2(p1, p2, segment, flag):\n",
    "\n",
    "    if segment == [] or p1 is None or p2 is None:\n",
    "        return []\n",
    "    \n",
    "    convex_hull = []\n",
    "\n",
    "    # calculate the distance of every point from the line to find the farthest point\n",
    "    farthest_distance = -1\n",
    "    farthest_point = None\n",
    "\n",
    "    for point in segment:\n",
    "\n",
    "        distance = find_distance(p1, p2, point)\n",
    "\n",
    "        if distance > farthest_distance:\n",
    "            \n",
    "            farthest_distance = distance\n",
    "            farthest_point = point\n",
    "\n",
    "    convex_hull = convex_hull +  [farthest_point]\n",
    "\n",
    "    print(\"Convex Hull in Quickhull2\", convex_hull)\n",
    "\n",
    "    # point is now in the convex hull so remove it from the segment\n",
    "    segment.remove(farthest_point)\n",
    "\n",
    "    # determine the segments formed from two lines p1-farthest_point and p2-farthest_point\n",
    "    point1above, point1below = create_segment(p1, farthest_point, segment)\n",
    "    point2above, point2below = create_segment(p2, farthest_point, segment)\n",
    "\n",
    "\n",
    "    # only use the segmetns in the same direction, the opposite direction is contained in the convex hull\n",
    "    if flag == \"above\":\n",
    "        convex_hull = convex_hull + quickhull2(p1, farthest_point, point1above, \"above\")\n",
    "        convex_hull = convex_hull + quickhull2(farthest_point, p2, point2above, \"above\")\n",
    "\n",
    "    else:\n",
    "        convex_hull = convex_hull + quickhull2(p1, farthest_point, point1below, \"below\")\n",
    "        convex_hull = convex_hull + quickhull2(farthest_point, p2, point2below, \"below\")\n",
    "\n",
    "    return convex_hull\n"
   ]
  },
  {
   "cell_type": "code",
   "execution_count": 5,
   "metadata": {},
   "outputs": [],
   "source": [
    "def quickhull(v):\n",
    "\n",
    "    if len(v) <= 2:\n",
    "\n",
    "        return v\n",
    "    \n",
    "    convex_hull = []\n",
    "\n",
    "    sort = sorted(v, key = lambda x : x[0])\n",
    "\n",
    "    p1 = sort[0]\n",
    "    p2 = sort[-1]\n",
    "\n",
    "    convex_hull = convex_hull + [p1, p2]\n",
    "\n",
    "    # remove from the list as they are now in the convex hull\n",
    "    sort.pop(0)\n",
    "    sort.pop(-1)\n",
    "\n",
    "    # initial_plot\n",
    "\n",
    "    fig, ax = plt.subplots()\n",
    "    # Clear the plot and update it\n",
    "    ax.clear()\n",
    "    ax.scatter([x[0] for x in v], [y[1] for y in v], c='b', marker='o', label='Points')\n",
    "\n",
    "    # draw Convex Hull points\n",
    "    ax.scatter([x[0] for x in convex_hull], [y[1] for y in convex_hull], c = 'r', marker='s', s=100, label='Highlighted Points')\n",
    "\n",
    "    # Draw a line between the highlighted points\n",
    "    ax.plot([x[0] for x in convex_hull], [y[1] for y in convex_hull], 'g-', linewidth=2, label='Line between Highlighted Points')\n",
    "\n",
    "    # Add labels and title\n",
    "    ax.set_title('Scatter Plot of Points')\n",
    "\n",
    "    # Display the plot in the notebook\n",
    "    display(fig)\n",
    "    clear_output(wait=True)\n",
    "    \n",
    "    # Add a small delay for visualization\n",
    "    time.sleep(0.5)\n",
    "    \n",
    "    \n",
    "\n",
    "    #determine points above and below the line\n",
    "    above, below = create_segment(p1, p2, sort)\n",
    "    \n",
    "    convex_hull = convex_hull + quickhull2(p1, p2, above, \"above\")\n",
    "    \n",
    "    convex_hull = convex_hull + quickhull2(p1, p2, below, \"below\")\n",
    "\n",
    "    return convex_hull"
   ]
  },
  {
   "cell_type": "code",
   "execution_count": 6,
   "metadata": {},
   "outputs": [
    {
     "name": "stdout",
     "output_type": "stream",
     "text": [
      "Convex Hull in Quickhull2 [[-1, 1]]\n",
      "Convex Hull in Quickhull2 [[0, 0]]\n",
      "Convex Hull in Quickhull2 [[-1, -5]]\n"
     ]
    },
    {
     "data": {
      "text/plain": [
       "[[-5, -3], [1, -4], [-1, 1], [0, 0], [-1, -5]]"
      ]
     },
     "execution_count": 6,
     "metadata": {},
     "output_type": "execute_result"
    },
    {
     "data": {
      "image/png": "[encoded data removed]",
      "text/plain": [
       "<Figure size 640x480 with 1 Axes>"
      ]
     },
     "metadata": {},
     "output_type": "display_data"
    }
   ],
   "source": [
    "v = []\n",
    "\n",
    "v.append([0, 0])\n",
    "v.append([1, -4])\n",
    "v.append([-1, -5])\n",
    "v.append([-5, -3])\n",
    "v.append([-3, -1])\n",
    "v.append([-1, -3])\n",
    "v.append([-2, -2])\n",
    "v.append([-1, -1])\n",
    "v.append([-2, -1])\n",
    "v.append([-1, 1])\n",
    "\n",
    "\n",
    "convex_hull = quickhull(v)\n",
    "convex_hull"
   ]
  }
 ],
 "metadata": {
  "kernelspec": {
   "display_name": "Python 3",
   "language": "python",
   "name": "python3"
  },
  "language_info": {
   "codemirror_mode": {
    "name": "ipython",
    "version": 3
   },
   "file_extension": ".py",
   "mimetype": "text/x-python",
   "name": "python",
   "nbconvert_exporter": "python",
   "pygments_lexer": "ipython3",
   "version": "3.11.4"
  },
  "orig_nbformat": 4
 },
 "nbformat": 4,
 "nbformat_minor": 2
}

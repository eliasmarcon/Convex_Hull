{
 "cells": [
  {
   "cell_type": "code",
   "execution_count": 15,
   "metadata": {},
   "outputs": [],
   "source": [
    "import math\n",
    "import time\n",
    "import matplotlib.pyplot as plt\n",
    "\n",
    "from IPython.display import display, clear_output"
   ]
  },
  {
   "cell_type": "code",
   "execution_count": null,
   "metadata": {},
   "outputs": [],
   "source": []
  },
  {
   "cell_type": "code",
   "execution_count": null,
   "metadata": {},
   "outputs": [],
   "source": []
  },
  {
   "cell_type": "code",
   "execution_count": 16,
   "metadata": {},
   "outputs": [],
   "source": [
    "def draw_initial_points(points):\n",
    "\n",
    "    # initial_plot\n",
    "\n",
    "    fig, ax = plt.subplots()\n",
    "    # Clear the plot and update it\n",
    "    ax.clear()\n",
    "    ax.scatter([x[0] for x in points], [y[1] for y in points], c='b', marker='o', label='Points')\n",
    "\n",
    "    # Add labels and title\n",
    "    ax.set_title('Scatter Plot of Points')\n",
    "\n",
    "    # Display the plot in the notebook\n",
    "    display(fig)\n",
    "    clear_output(wait=True)\n",
    "\n",
    "    return fig, ax"
   ]
  },
  {
   "cell_type": "code",
   "execution_count": 17,
   "metadata": {},
   "outputs": [],
   "source": [
    "def draw_convex_hull_points_and_lines(fig, ax, convex_hull):\n",
    "\n",
    "    # draw Convex Hull points\n",
    "    ax.scatter([x[0] for x in convex_hull], [y[1] for y in convex_hull], c = 'r', marker='o', label='Highlighted Points')\n",
    "\n",
    "    # Draw a line between the highlighted points\n",
    "    ax.plot([x[0] for x in convex_hull], [y[1] for y in convex_hull], 'k--', linewidth=1, label='Line between Highlighted Points')\n",
    "\n",
    "    # Add labels and title\n",
    "    ax.set_title('Scatter Plot of Points')\n",
    "\n",
    "    # Display the plot in the notebook\n",
    "    display(fig)\n",
    "    clear_output(wait=True)\n",
    "\n",
    "    return fig, ax\n"
   ]
  },
  {
   "cell_type": "code",
   "execution_count": 18,
   "metadata": {},
   "outputs": [],
   "source": [
    "def quickhull(points):\n",
    "\n",
    "    fig, ax = draw_initial_points(points)\n",
    "\n",
    "    convex_hull = []\n",
    "\n",
    "    #get the left and right most point and add them to the convex_hull\n",
    "    points_sorted = sorted(points, key = lambda x : x[0])\n",
    "\n",
    "    left_most_point = points_sorted[0]\n",
    "    right_most_point = points_sorted[-1]\n",
    "\n",
    "\n",
    "    convex_hull = convex_hull + [left_most_point, right_most_point]\n",
    "\n",
    "    fig, ax = draw_convex_hull_points_and_lines(fig, ax, convex_hull)\n",
    "\n",
    "    print(\"Left most Point\", left_most_point)\n",
    "    print(\"Right most Point\", right_most_point)\n",
    "\n",
    "\n",
    "\n",
    "\n"
   ]
  },
  {
   "cell_type": "code",
   "execution_count": 19,
   "metadata": {},
   "outputs": [
    {
     "data": {
      "image/png": "[encoded data removed]",
      "text/plain": [
       "<Figure size 640x480 with 1 Axes>"
      ]
     },
     "metadata": {},
     "output_type": "display_data"
    }
   ],
   "source": [
    "points = []\n",
    "\n",
    "points.append([0, 0])\n",
    "points.append([1, -4])\n",
    "points.append([-1, -5])\n",
    "points.append([-5, -3])\n",
    "points.append([-3, -1])\n",
    "points.append([-1, -3])\n",
    "points.append([-2, -2])\n",
    "points.append([-1, -1])\n",
    "points.append([-2, -1])\n",
    "points.append([-1, 1])\n",
    "\n",
    "\n",
    "convex_hull = quickhull(points)\n",
    "convex_hull"
   ]
  }
 ],
 "metadata": {
  "kernelspec": {
   "display_name": "Python 3",
   "language": "python",
   "name": "python3"
  },
  "language_info": {
   "codemirror_mode": {
    "name": "ipython",
    "version": 3
   },
   "file_extension": ".py",
   "mimetype": "text/x-python",
   "name": "python",
   "nbconvert_exporter": "python",
   "pygments_lexer": "ipython3",
   "version": "3.11.4"
  },
  "orig_nbformat": 4
 },
 "nbformat": 4,
 "nbformat_minor": 2
}

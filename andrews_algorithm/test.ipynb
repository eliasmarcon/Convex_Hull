{
 "cells": [
  {
   "cell_type": "code",
   "execution_count": 56,
   "metadata": {},
   "outputs": [],
   "source": [
    "import random\n",
    "import time\n",
    "import numpy as np\n",
    "import matplotlib.pyplot as plt\n",
    "\n",
    "from IPython.display import display, clear_output"
   ]
  },
  {
   "cell_type": "code",
   "execution_count": 57,
   "metadata": {},
   "outputs": [
    {
     "name": "stdout",
     "output_type": "stream",
     "text": [
      "(2.0154636616860184, 12.71150605405849)\n",
      "(11.45661928464921, 3.826035386091325)\n",
      "(7.431526306379114, 6.742365971831072)\n",
      "(9.773894590841444, 11.830850267032698)\n",
      "(1.4078938016135234, 0.42521214783009464)\n"
     ]
    }
   ],
   "source": [
    "# Create an empty list to store the points\n",
    "points = []\n",
    "\n",
    "random.seed(1)\n",
    "# Generate and store 10 random points\n",
    "for _ in range(5):\n",
    "    x = random.uniform(0, 15)\n",
    "    y = random.uniform(0, 15)\n",
    "    points.append((x, y))\n",
    "\n",
    "# Print the array of points\n",
    "for point in points:\n",
    "    print(point)"
   ]
  },
  {
   "cell_type": "code",
   "execution_count": 104,
   "metadata": {},
   "outputs": [],
   "source": [
    "def show_initial_plot(fig, ax, points):\n",
    "\n",
    "    ax.scatter([x[0] for x in points], [y[1] for y in points], c='b', marker='o', label='Points', s=4)  # Plot points\n",
    "\n",
    "    display(fig)\n",
    "    clear_output(wait=True)\n",
    "\n",
    "    # time.sleep(1)\n",
    "    \n",
    "    return ax\n",
    "\n",
    "# Function to update the plot by highlighting current hull points\n",
    "def update_plot(fig, ax, current_hull, points):\n",
    "\n",
    "    \"\"\"Function to update the plot by highlighting current hull points\n",
    "\n",
    "    Args:\n",
    "        ax: point object\n",
    "        canvas: canvas object / where the plot is drawn\n",
    "        current_hull: current hull points\n",
    "\n",
    "    Returns:\n",
    "        ax: point object (scatter plot of current hull points)\n",
    "        canvas: canvas object / where the plot is drawn\n",
    "    \"\"\"\n",
    "    # Convert the arrays to tuples for comparison\n",
    "    points1_set = set(map(tuple, current_hull))\n",
    "    points2_set = set(map(tuple, points))\n",
    "\n",
    "    # Find points in points_array1 but not in points_array2\n",
    "    result_set = points2_set - points1_set\n",
    "\n",
    "    # Convert the result back to a NumPy array of points\n",
    "    not_convex_hull_points = np.array(list(result_set))\n",
    "\n",
    "    print(\"Current hull points: \", current_hull)\n",
    "    print(\"Points not in convex hull: \", not_convex_hull_points)\n",
    "\n",
    "\n",
    "    if len(current_hull) > 1:\n",
    "        # Scatter plot of current hull points\n",
    "        ax.scatter([x[0] for x in current_hull], [y[1] for y in current_hull], c='r', marker='o', label='Highlighted Points')\n",
    "    \n",
    "    elif len(current_hull) == 1:\n",
    "\n",
    "        ax.scatter(current_hull[0][0], current_hull[0][1], c='r', marker='o', label='Highlighted Points')\n",
    "    \n",
    "\n",
    "    if len(not_convex_hull_points) > 1:\n",
    "        # Scatter plot of current hull points\n",
    "        ax.scatter([x[0] for x in not_convex_hull_points], [y[1] for y in not_convex_hull_points], c='b', marker='o', label='Highlighted Points')\n",
    "    \n",
    "    elif len(not_convex_hull_points) == 1:\n",
    "\n",
    "        ax.scatter(not_convex_hull_points[0][0], not_convex_hull_points[0][1], c='r', marker='o', label='Highlighted Points')\n",
    "\n",
    "\n",
    "    display(fig)\n",
    "    clear_output(wait=True)\n",
    "\n",
    "    time.sleep(1)\n",
    "\n",
    "    return ax"
   ]
  },
  {
   "cell_type": "code",
   "execution_count": 69,
   "metadata": {},
   "outputs": [],
   "source": [
    "def is_left_turn(p, q, r):\n",
    "    \"\"\"Returns True if the turn of pq -> qr is counter-clockwise and False otherwise.\"\"\"\n",
    "\n",
    "    return (q[0] - p[0])*(r[1] - p[1]) > (r[0] - p[0])*(q[1] - p[1])"
   ]
  },
  {
   "cell_type": "code",
   "execution_count": 96,
   "metadata": {},
   "outputs": [],
   "source": [
    "def draw_point_line(fig, ax, current_hull_point, point):\n",
    "\n",
    "    # Plot the connection between the last and first points\n",
    "    new_line = ax.plot([current_hull_point[0], point[0]], [current_hull_point[1], point[1]], 'r-', picker=5, linewidth=2)\n",
    "\n",
    "    # Plot dashed lines connecting current hull points\n",
    "    # ax.plot(current_hull[:, 0], current_hull[:, 1], 'k--', picker=5, linewidth=1)\n",
    "    \n",
    "    display(fig)\n",
    "    clear_output(wait=True)\n",
    "\n",
    "    # time.sleep(time_sleep)\n",
    "    \n",
    "    return ax, new_line"
   ]
  },
  {
   "cell_type": "code",
   "execution_count": 111,
   "metadata": {},
   "outputs": [],
   "source": [
    "# Main function to calculate the convex hull using the Gift Wrapping algorithm\n",
    "def andrews_algorithm(fig, ax, points):\n",
    "        \n",
    "    points = np.array(points)\n",
    "    \n",
    "    ax = show_initial_plot(fig, ax, points)\n",
    "\n",
    "    points = sorted(points, key=lambda x: x[0])\n",
    "\n",
    "    upper_hull = []\n",
    "    # Create a list to store the lines\n",
    "    temporary_lines = []\n",
    "\n",
    "    for point in points:\n",
    "\n",
    "        while len(upper_hull) > 1 and is_left_turn(upper_hull[-2], upper_hull[-1], point):\n",
    "\n",
    "            upper_hull.pop()\n",
    "            temporary_lines[-1].remove()\n",
    "            update_plot(fig, ax, np.array(upper_hull), np.array(points))\n",
    "       \n",
    "\n",
    "        if len(upper_hull) > 0:\n",
    "\n",
    "            ax, new_line = draw_point_line(fig, ax, upper_hull[-1], point)\n",
    "            temporary_lines.append(new_line[0])\n",
    "\n",
    "        upper_hull.append(point)\n",
    "        update_plot(fig, ax, np.array(upper_hull), np.array(points))\n",
    "\n",
    "    lower_hull = []\n",
    "\n",
    "    for point in reversed(points):\n",
    "\n",
    "        while len(lower_hull) > 1 and is_left_turn(lower_hull[-2], lower_hull[-1], point):\n",
    "\n",
    "            temporary_lines[-1].set_color('blue')\n",
    "            lower_hull.pop()\n",
    "\n",
    "            temporary_lines[-1].remove()\n",
    "            update_plot(fig, ax, np.concatenate((upper_hull, lower_hull)), np.array(points))\n",
    "\n",
    "        if len(lower_hull) > 0:\n",
    "\n",
    "            ax, new_line = draw_point_line(fig, ax, lower_hull[-1], point)\n",
    "            temporary_lines.append(new_line[0])\n",
    "\n",
    "        lower_hull.append(point)\n",
    "        update_plot(fig, ax, np.concatenate((upper_hull, lower_hull)), np.array(points))\n",
    "\n",
    "\n",
    "    # print(upper_hull[:-1] + lower_hull)\n",
    "\n",
    "    # return upper_hull[:-1] + lower_hull \n",
    "    \n",
    "    # current_hull_point = points[np.argmin(points[:, 0])]\n",
    "    # convex_hull_points = []\n",
    "\n",
    "\n",
    "    # convex_hull = []\n",
    "\n",
    "    # p1 = min(points, key=lambda point: point[0])\n",
    "    # p2 = max(points, key=lambda point: point[0])\n",
    "\n",
    "    # # Remove the leftmost and rightmost points from the array\n",
    "    # points.remove(p1)\n",
    "    # points.remove(p2)\n",
    "\n",
    "    # convex_hull = convex_hull + [p1, p2]"
   ]
  },
  {
   "cell_type": "code",
   "execution_count": 112,
   "metadata": {},
   "outputs": [
    {
     "ename": "ValueError",
     "evalue": "list.remove(x): x not in list",
     "output_type": "error",
     "traceback": [
      "\u001b[1;31m---------------------------------------------------------------------------\u001b[0m",
      "\u001b[1;31mValueError\u001b[0m                                Traceback (most recent call last)",
      "\u001b[1;32mc:\\Users\\User\\OneDrive - FH Technikum Wien\\1_Semester\\Advanced_Programming\\Convex_Hull\\andrews_algorithm\\test.ipynb Cell 7\u001b[0m line \u001b[0;36m3\n\u001b[0;32m      <a href='vscode-notebook-cell:/c%3A/Users/User/OneDrive%20-%20FH%20Technikum%20Wien/1_Semester/Advanced_Programming/Convex_Hull/andrews_algorithm/test.ipynb#W4sZmlsZQ%3D%3D?line=0'>1</a>\u001b[0m fig, ax \u001b[39m=\u001b[39m plt\u001b[39m.\u001b[39msubplots(figsize\u001b[39m=\u001b[39m(\u001b[39m8\u001b[39m, \u001b[39m8\u001b[39m))\n\u001b[1;32m----> <a href='vscode-notebook-cell:/c%3A/Users/User/OneDrive%20-%20FH%20Technikum%20Wien/1_Semester/Advanced_Programming/Convex_Hull/andrews_algorithm/test.ipynb#W4sZmlsZQ%3D%3D?line=2'>3</a>\u001b[0m andrews_algorithm(fig, ax, points)\n",
      "\u001b[1;32mc:\\Users\\User\\OneDrive - FH Technikum Wien\\1_Semester\\Advanced_Programming\\Convex_Hull\\andrews_algorithm\\test.ipynb Cell 7\u001b[0m line \u001b[0;36m4\n\u001b[0;32m     <a href='vscode-notebook-cell:/c%3A/Users/User/OneDrive%20-%20FH%20Technikum%20Wien/1_Semester/Advanced_Programming/Convex_Hull/andrews_algorithm/test.ipynb#W4sZmlsZQ%3D%3D?line=43'>44</a>\u001b[0m     temporary_lines[\u001b[39m-\u001b[39m\u001b[39m1\u001b[39m]\u001b[39m.\u001b[39mset_color(\u001b[39m'\u001b[39m\u001b[39mblue\u001b[39m\u001b[39m'\u001b[39m)\n\u001b[0;32m     <a href='vscode-notebook-cell:/c%3A/Users/User/OneDrive%20-%20FH%20Technikum%20Wien/1_Semester/Advanced_Programming/Convex_Hull/andrews_algorithm/test.ipynb#W4sZmlsZQ%3D%3D?line=44'>45</a>\u001b[0m     lower_hull\u001b[39m.\u001b[39mpop()\n\u001b[1;32m---> <a href='vscode-notebook-cell:/c%3A/Users/User/OneDrive%20-%20FH%20Technikum%20Wien/1_Semester/Advanced_Programming/Convex_Hull/andrews_algorithm/test.ipynb#W4sZmlsZQ%3D%3D?line=46'>47</a>\u001b[0m     temporary_lines[\u001b[39m-\u001b[39;49m\u001b[39m1\u001b[39;49m]\u001b[39m.\u001b[39;49mremove()\n\u001b[0;32m     <a href='vscode-notebook-cell:/c%3A/Users/User/OneDrive%20-%20FH%20Technikum%20Wien/1_Semester/Advanced_Programming/Convex_Hull/andrews_algorithm/test.ipynb#W4sZmlsZQ%3D%3D?line=47'>48</a>\u001b[0m     update_plot(fig, ax, np\u001b[39m.\u001b[39mconcatenate((upper_hull, lower_hull)), np\u001b[39m.\u001b[39marray(points))\n\u001b[0;32m     <a href='vscode-notebook-cell:/c%3A/Users/User/OneDrive%20-%20FH%20Technikum%20Wien/1_Semester/Advanced_Programming/Convex_Hull/andrews_algorithm/test.ipynb#W4sZmlsZQ%3D%3D?line=49'>50</a>\u001b[0m \u001b[39mif\u001b[39;00m \u001b[39mlen\u001b[39m(lower_hull) \u001b[39m>\u001b[39m \u001b[39m0\u001b[39m:\n",
      "File \u001b[1;32mc:\\Users\\User\\AppData\\Local\\Programs\\Python\\Python311\\Lib\\site-packages\\matplotlib\\artist.py:242\u001b[0m, in \u001b[0;36mArtist.remove\u001b[1;34m(self)\u001b[0m\n\u001b[0;32m    237\u001b[0m \u001b[39m# There is no method to set the callback.  Instead, the parent should\u001b[39;00m\n\u001b[0;32m    238\u001b[0m \u001b[39m# set the _remove_method attribute directly.  This would be a\u001b[39;00m\n\u001b[0;32m    239\u001b[0m \u001b[39m# protected attribute if Python supported that sort of thing.  The\u001b[39;00m\n\u001b[0;32m    240\u001b[0m \u001b[39m# callback has one parameter, which is the child to be removed.\u001b[39;00m\n\u001b[0;32m    241\u001b[0m \u001b[39mif\u001b[39;00m \u001b[39mself\u001b[39m\u001b[39m.\u001b[39m_remove_method \u001b[39mis\u001b[39;00m \u001b[39mnot\u001b[39;00m \u001b[39mNone\u001b[39;00m:\n\u001b[1;32m--> 242\u001b[0m     \u001b[39mself\u001b[39m\u001b[39m.\u001b[39m_remove_method(\u001b[39mself\u001b[39m)\n\u001b[0;32m    243\u001b[0m     \u001b[39m# clear stale callback\u001b[39;00m\n\u001b[0;32m    244\u001b[0m     \u001b[39mself\u001b[39m\u001b[39m.\u001b[39mstale_callback \u001b[39m=\u001b[39m \u001b[39mNone\u001b[39;00m\n",
      "\u001b[1;31mValueError\u001b[0m: list.remove(x): x not in list"
     ]
    },
    {
     "data": {
      "image/png": "[encoded data removed]",
      "text/plain": [
       "<Figure size 800x800 with 1 Axes>"
      ]
     },
     "metadata": {},
     "output_type": "display_data"
    }
   ],
   "source": [
    "fig, ax = plt.subplots(figsize=(8, 8))\n",
    "\n",
    "andrews_algorithm(fig, ax, points)"
   ]
  }
 ],
 "metadata": {
  "kernelspec": {
   "display_name": "Python 3",
   "language": "python",
   "name": "python3"
  },
  "language_info": {
   "codemirror_mode": {
    "name": "ipython",
    "version": 3
   },
   "file_extension": ".py",
   "mimetype": "text/x-python",
   "name": "python",
   "nbconvert_exporter": "python",
   "pygments_lexer": "ipython3",
   "version": "3.11.4"
  }
 },
 "nbformat": 4,
 "nbformat_minor": 2
}
